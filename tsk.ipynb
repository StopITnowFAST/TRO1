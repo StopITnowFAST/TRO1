{
 "cells": [
  {
   "cell_type": "code",
   "execution_count": 1,
   "id": "a2662885",
   "metadata": {},
   "outputs": [
    {
     "name": "stdout",
     "output_type": "stream",
     "text": [
      "Организовать сдачу экзамена можно 120.0 способами\n"
     ]
    }
   ],
   "source": [
    "#!/usr/bin/env python3\n",
    "# -*- coding: utf-8 -*-\n",
    "\n",
    "import math\n",
    "\n",
    "# Студенту необходимо сдать три (различных) экзамена в течение\n",
    "# шести дней. В день разрешается сдавать не более одного экзамена.\n",
    "# Сколькими способами можно организовать сдачу экзаменов?\n",
    "\n",
    "\n",
    "if __name__ == '__main__':\n",
    "    n = 6\n",
    "    m = 3\n",
    "    # Используем формулу размещения\n",
    "    P = math.factorial(n) / math.factorial(n-m)\n",
    "    print(f\"Организовать сдачу экзамена можно {P} способами\")"
   ]
  },
  {
   "cell_type": "code",
   "execution_count": null,
   "id": "5ca57816",
   "metadata": {},
   "outputs": [],
   "source": []
  }
 ],
 "metadata": {
  "kernelspec": {
   "display_name": "Python 3 (ipykernel)",
   "language": "python",
   "name": "python3"
  },
  "language_info": {
   "codemirror_mode": {
    "name": "ipython",
    "version": 3
   },
   "file_extension": ".py",
   "mimetype": "text/x-python",
   "name": "python",
   "nbconvert_exporter": "python",
   "pygments_lexer": "ipython3",
   "version": "3.9.13"
  }
 },
 "nbformat": 4,
 "nbformat_minor": 5
}
