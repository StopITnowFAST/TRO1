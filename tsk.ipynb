{
 "cells": [
  {
   "cell_type": "markdown",
   "id": "a379c671",
   "metadata": {},
   "source": [
    "Быстрая сортировка (сортировка с разделением)"
   ]
  },
  {
   "cell_type": "code",
   "execution_count": 1,
   "id": "5ca57816",
   "metadata": {},
   "outputs": [
    {
     "data": {
      "text/plain": [
       "[97, 46, 32, 8, 39]"
      ]
     },
     "execution_count": 1,
     "metadata": {},
     "output_type": "execute_result"
    }
   ],
   "source": [
    "import random\n",
    "from random import randint\n",
    "\n",
    "N = 5\n",
    "\n",
    "lst = [randint(0, 100) for i in range(N)]\n",
    "lst"
   ]
  },
  {
   "cell_type": "code",
   "execution_count": 9,
   "id": "ad08f9d8",
   "metadata": {},
   "outputs": [],
   "source": [
    "def quicksort(nums):\n",
    "   if len(nums) <= 1:\n",
    "        return nums\n",
    "\n",
    "   else:\n",
    "       q = random.choice(nums)\n",
    "        \n",
    "       print(f\"Выбрали - {q}\")\n",
    "        \n",
    "       less_nums = []\n",
    "       more_nums = []\n",
    "       equal_nums = []\n",
    "    \n",
    "       for i in nums:\n",
    "           if i < q:\n",
    "                less_nums.append(i)\n",
    "                print(f\"Дополнили меньший список числом {i}\")\n",
    "                \n",
    "           elif i > q:\n",
    "                more_nums.append(i)\n",
    "                print(f\"Дополнили больший список числом {i}\")\n",
    "                \n",
    "           else:\n",
    "                equal_nums.append(i)\n",
    "                print(f\"Дополнили равный список числом {i}\")\n",
    "                \n",
    "       return quicksort(less_nums) + equal_nums + quicksort(more_nums)"
   ]
  },
  {
   "cell_type": "code",
   "execution_count": 13,
   "id": "99631bdf",
   "metadata": {},
   "outputs": [
    {
     "name": "stdout",
     "output_type": "stream",
     "text": [
      "Выбрали - 32\n",
      "Дополнили больший список числом 97\n",
      "Дополнили больший список числом 46\n",
      "Дополнили равный список числом 32\n",
      "Дополнили меньший список числом 8\n",
      "Дополнили больший список числом 39\n",
      "Выбрали - 46\n",
      "Дополнили больший список числом 97\n",
      "Дополнили равный список числом 46\n",
      "Дополнили меньший список числом 39\n"
     ]
    },
    {
     "data": {
      "text/plain": [
       "[8, 32, 39, 46, 97]"
      ]
     },
     "execution_count": 13,
     "metadata": {},
     "output_type": "execute_result"
    }
   ],
   "source": [
    "quicksort(lst)"
   ]
  },
  {
   "cell_type": "code",
   "execution_count": null,
   "id": "f986b00d",
   "metadata": {},
   "outputs": [],
   "source": []
  },
  {
   "cell_type": "code",
   "execution_count": null,
   "id": "12a68638",
   "metadata": {},
   "outputs": [],
   "source": []
  },
  {
   "cell_type": "code",
   "execution_count": null,
   "id": "3de474bc",
   "metadata": {},
   "outputs": [],
   "source": []
  }
 ],
 "metadata": {
  "kernelspec": {
   "display_name": "Python 3 (ipykernel)",
   "language": "python",
   "name": "python3"
  },
  "language_info": {
   "codemirror_mode": {
    "name": "ipython",
    "version": 3
   },
   "file_extension": ".py",
   "mimetype": "text/x-python",
   "name": "python",
   "nbconvert_exporter": "python",
   "pygments_lexer": "ipython3",
   "version": "3.9.13"
  }
 },
 "nbformat": 4,
 "nbformat_minor": 5
}
