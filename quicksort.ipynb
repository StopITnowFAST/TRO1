{
 "cells": [
  {
   "cell_type": "markdown",
   "id": "087f29fa",
   "metadata": {},
   "source": [
    "Принцип работы быстрой сортировки (сортировки с разделениями)"
   ]
  },
  {
   "cell_type": "markdown",
   "id": "a379c671",
   "metadata": {},
   "source": [
    "Худшее время работы - $O(n^2)$  \n",
    "Лучшее время работы - $O(n\\log{n})$ "
   ]
  },
  {
   "cell_type": "code",
   "execution_count": 15,
   "id": "5ca57816",
   "metadata": {},
   "outputs": [
    {
     "data": {
      "text/plain": [
       "[49, 17, 81, 31, 1, 100, 95, 80, 46, 47]"
      ]
     },
     "execution_count": 15,
     "metadata": {},
     "output_type": "execute_result"
    }
   ],
   "source": [
    "import random\n",
    "\n",
    "N = 10\n",
    "lst = [randint(0, 100) for i in range(N)]\n",
    "lst"
   ]
  },
  {
   "cell_type": "markdown",
   "id": "991bfbf7",
   "metadata": {},
   "source": [
    "Алгоритм состоит из 3 шагов:\n",
    "1. Выбрать элемент из массива. Назовём его опорным.\n",
    "2. Перераспределение элементов в массиве таким образом, что элементы, меньшие опорного, помещаются перед ним, а большие или равные - после.\n",
    "3. Рекурсивно применить первые два шага к двум подмассивам слева и справа от опорного элемента. Рекурсия не применяется к массиву, в котором только один элемент или отсутствуют элементы."
   ]
  },
  {
   "cell_type": "code",
   "execution_count": 19,
   "id": "ad08f9d8",
   "metadata": {},
   "outputs": [],
   "source": [
    "def quicksort(nums):\n",
    "    if len(nums) <= 1:\n",
    "         return nums\n",
    "    else:\n",
    "           q = random.choice(nums)\n",
    "\n",
    "           print(f\"Выбрали - {q}\")\n",
    "\n",
    "           less_nums = []\n",
    "           more_nums = []\n",
    "           equal_nums = []\n",
    "\n",
    "           for i in nums:\n",
    "               if i < q:\n",
    "                    less_nums.append(i)\n",
    "\n",
    "               elif i > q:\n",
    "                    more_nums.append(i)\n",
    "\n",
    "               else:\n",
    "                    equal_nums.append(i)\n",
    "\n",
    "           return quicksort(less_nums) + equal_nums + quicksort(more_nums)"
   ]
  },
  {
   "cell_type": "code",
   "execution_count": 20,
   "id": "99631bdf",
   "metadata": {},
   "outputs": [
    {
     "name": "stdout",
     "output_type": "stream",
     "text": [
      "Выбрали - 95\n",
      "Выбрали - 17\n",
      "Выбрали - 47\n",
      "Выбрали - 31\n",
      "Выбрали - 80\n",
      "[1, 17, 31, 46, 47, 49, 80, 81, 95, 100]\n"
     ]
    }
   ],
   "source": [
    "print(quicksort(lst))"
   ]
  },
  {
   "cell_type": "code",
   "execution_count": null,
   "id": "f986b00d",
   "metadata": {},
   "outputs": [],
   "source": []
  },
  {
   "cell_type": "code",
   "execution_count": null,
   "id": "12a68638",
   "metadata": {},
   "outputs": [],
   "source": []
  },
  {
   "cell_type": "code",
   "execution_count": null,
   "id": "3de474bc",
   "metadata": {},
   "outputs": [],
   "source": []
  }
 ],
 "metadata": {
  "kernelspec": {
   "display_name": "Python 3 (ipykernel)",
   "language": "python",
   "name": "python3"
  },
  "language_info": {
   "codemirror_mode": {
    "name": "ipython",
    "version": 3
   },
   "file_extension": ".py",
   "mimetype": "text/x-python",
   "name": "python",
   "nbconvert_exporter": "python",
   "pygments_lexer": "ipython3",
   "version": "3.9.13"
  }
 },
 "nbformat": 4,
 "nbformat_minor": 5
}
